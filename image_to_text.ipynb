{
  "nbformat": 4,
  "nbformat_minor": 0,
  "metadata": {
    "colab": {
      "provenance": [],
      "authorship_tag": "ABX9TyPFMpaUFgGS8gxbtN7dWevZ",
      "include_colab_link": true
    },
    "kernelspec": {
      "name": "python3",
      "display_name": "Python 3"
    },
    "language_info": {
      "name": "python"
    }
  },
  "cells": [
    {
      "cell_type": "markdown",
      "metadata": {
        "id": "view-in-github",
        "colab_type": "text"
      },
      "source": [
        "<a href=\"https://colab.research.google.com/github/SMJ2003-pocketware/Image_to_caption-text-/blob/main/image_to_text.ipynb\" target=\"_parent\"><img src=\"https://colab.research.google.com/assets/colab-badge.svg\" alt=\"Open In Colab\"/></a>"
      ]
    },
    {
      "cell_type": "markdown",
      "source": [
        "**Converting an image into speech / Generating captions for an image**"
      ],
      "metadata": {
        "id": "uND9YyKaoH5H"
      }
    },
    {
      "cell_type": "markdown",
      "source": [
        "Importing the required libraries"
      ],
      "metadata": {
        "id": "KynMXmr3jRtW"
      }
    },
    {
      "cell_type": "code",
      "execution_count": 12,
      "metadata": {
        "id": "ZRgh2LFrjMSQ"
      },
      "outputs": [],
      "source": [
        "from transformers import BlipProcessor, BlipForConditionalGeneration\n",
        "from PIL import Image\n",
        "from google.colab import files"
      ]
    },
    {
      "cell_type": "markdown",
      "source": [
        "Functions for preprocessing the image and create image"
      ],
      "metadata": {
        "id": "Tk2-vOwgnlj-"
      }
    },
    {
      "cell_type": "code",
      "source": [
        "#Loading the pre-trained model\n",
        "processor = BlipProcessor.from_pretrained(\"Salesforce/blip-image-captioning-base\")\n",
        "model = BlipForConditionalGeneration.from_pretrained(\"Salesforce/blip-image-captioning-base\")"
      ],
      "metadata": {
        "id": "TNqry7CKj4YP"
      },
      "execution_count": 23,
      "outputs": []
    },
    {
      "cell_type": "markdown",
      "source": [
        "Uploading the image"
      ],
      "metadata": {
        "id": "F3ihECduns11"
      }
    },
    {
      "cell_type": "code",
      "source": [
        "uploaded=files.upload()"
      ],
      "metadata": {
        "id": "81W0ESPCk9Rv"
      },
      "execution_count": null,
      "outputs": []
    },
    {
      "cell_type": "code",
      "source": [
        "image=Image.open(\"/content/speedpainting___random_landscape_by_waltjan_decomno-pre.jpg\")"
      ],
      "metadata": {
        "id": "PCZDntXJkFVv"
      },
      "execution_count": 32,
      "outputs": []
    },
    {
      "cell_type": "markdown",
      "source": [
        "Processing and generating caption for the uploaded image"
      ],
      "metadata": {
        "id": "DT8-iwaTnxZG"
      }
    },
    {
      "cell_type": "code",
      "source": [
        "# preprocess the image and generate the caption\n",
        "inputs = processor(image, return_tensors=\"pt\")\n",
        "out = model.generate(**inputs)"
      ],
      "metadata": {
        "id": "BV9JfP98kKbA"
      },
      "execution_count": 33,
      "outputs": []
    },
    {
      "cell_type": "code",
      "source": [
        "caption = processor.decode(out[0], skip_special_tokens=True)\n",
        "print(\"generated caption:\",caption)"
      ],
      "metadata": {
        "id": "N3iyZ7lGke95"
      },
      "execution_count": null,
      "outputs": []
    }
  ]
}